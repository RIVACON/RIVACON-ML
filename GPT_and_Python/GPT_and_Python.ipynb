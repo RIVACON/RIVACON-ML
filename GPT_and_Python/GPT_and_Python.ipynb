{
 "cells": [
  {
   "cell_type": "markdown",
   "id": "604d003c-6b30-4a84-9067-bffb3d34b033",
   "metadata": {},
   "source": [
    "<center><img src=\"../images/logo.png\" width=\"500\" /></center>\n",
    "<h3><center> Using GenerativeAI in Python: a compact self-contained overview </center></h3>"
   ]
  },
  {
   "cell_type": "markdown",
   "id": "f7437830",
   "metadata": {},
   "source": [
    "<div class=\"alert alert-block alert-danger\"> Please note that an individual API-Key is required to run the notebook. </div>"
   ]
  },
  {
   "cell_type": "markdown",
   "id": "a642ebdc-66c4-46e9-a5a1-7a704971de63",
   "metadata": {},
   "source": [
    "### Introduction: Generative Machine Learning"
   ]
  },
  {
   "cell_type": "markdown",
   "id": "16dd1d38-ae05-4816-8e2c-833f9a3f8c6a",
   "metadata": {},
   "source": [
    "####  _Basic idea_"
   ]
  },
  {
   "cell_type": "markdown",
   "id": "dd1f7496-8c39-499e-b08b-3f42bcaa49a9",
   "metadata": {},
   "source": [
    "Imagine to roll a dice multiple times, collect the outcomes and then build a probability distribution based on the frequencies.\n",
    "By sampling from such a distribution, you can generate \"realistic\" numbers without using the dice anymore.\n",
    "You can also combine the results with arithmeric operations so that \"new\" numbers can appear, even if they are not pictured on \n",
    "the starting faces.\n",
    "\n",
    "Despite its simplicity, the previous idea is essential. By replacing \"numbers\" with \"pictures/text/...\",\n",
    "so that \"dice outcomes\" are now general multimedia datasets,\n",
    "and using more advanced probabilistic models (e.g. deep convolutional neoral networks)\n",
    "instead of naive \"frequencies\",\n",
    "it is possible to obtain models models capable of producing \"creative\" multimedia content, precisely as it was possible for the dice \n",
    "to produce \"new\" numbers.\n",
    "\n",
    "*Generative Machine Learning is then like rolling a dice, but instead of producing numbers, you get content mirroring \n",
    "your training data.*"
   ]
  },
  {
   "cell_type": "markdown",
   "id": "169d5ec2-085d-4425-afac-4ca0c95c7011",
   "metadata": {},
   "source": [
    "#### _Why today_"
   ]
  },
  {
   "cell_type": "markdown",
   "id": "f4347c96-4bf3-4d99-88b3-6516dcc86ea6",
   "metadata": {},
   "source": [
    "Nowadays we have either the computational power to run massive scientific\n",
    "simulations, and enough theoretical understanding (Academic Research) to understand the fundamentals.\n",
    "Applications in the Industry are the natural consequences.\n",
    "\n",
    "On the one hand, you can in principle build a model according to your needs.\n",
    "For instance, the [Pytorch](https://pytorch.org/tutorials/beginner/dcgan_faces_tutorial.html) webpage provides a good starting point.\n",
    "On the other hand, you can download a model already prepared (trained) by someone else, so that you only have to \"roll the dice\".\n",
    "The following table offers a quick overview of multiple offers available today (November 2024)."
   ]
  },
  {
   "cell_type": "markdown",
   "id": "dce790b2-1b59-409f-9725-aee9192aab43",
   "metadata": {},
   "source": [
    "| Provider | User | Source code | Content Trained for | Remarks |\n",
    "| --- | --- | --- | --- | --- |\n",
    "| [OpenAI-GPT](https://openai.com/api/pricing/) | Business |Closed, partially Open | General | Famous for ChatGPT |\n",
    "| [BloombergGPT](https://www.bloomberg.com/company/press/bloomberggpt-50-billion-parameter-llm-tuned-finance/) | Business |Closed | Finance | Possibly the best performance in Finance |\n",
    "| [FinGPT](https://github.com/AI4Finance-Foundation/FinGPT) | Academic | Open | Finance | Can be partially retrained *with your PC!* |\n",
    "| [ColossalAI](https://colossalai.org/) | Academic |Open | General | Offer business support | \n",
    "| [ClaudeAI](https://www.anthropic.com/news/claude-3-5-sonnet) | Business | Closed | General | Strongly ethical, results respect a \"Constitution\" |"
   ]
  },
  {
   "cell_type": "markdown",
   "id": "c89f118d-6eeb-4ac8-b681-51c41ce95599",
   "metadata": {},
   "source": [
    "The table is of course not comprehensive. The website [huggingface](https://huggingface.co/models) offers a huge collection of alternative solutions."
   ]
  },
  {
   "cell_type": "markdown",
   "id": "425a42ab-1494-45c8-acc5-7f7262fb1054",
   "metadata": {},
   "source": [
    "### Use Cases and Privacy Remarks"
   ]
  },
  {
   "cell_type": "markdown",
   "id": "20a6409b-8b54-49a6-b974-c5c0d1ab6c7b",
   "metadata": {},
   "source": [
    "Due to its very recent development, it is hard to _precisely_ fill in a list of companies using Generative AI,\n",
    "but a great landscape of many (400+)  Generative AI Startups is available from the [dealroom website](https://app.dealroom.co/lists/33530/).\n",
    "Notable examples include the entertainment field, like\n",
    "[videogames](https://www.forbes.com/sites/bernardmarr/2024/04/18/the-role-of-generative-ai-in-video-game-development/) or\n",
    "[video editing](https://openai.com/index/waymark/).\n",
    "Other examples include support for Software Development (e.g. [Micosoft Copilot](https://visualstudio.microsoft.com/de/github-copilot/)\n",
    "and [Turintech](https://www.turintech.ai/)),\n",
    "or Chatbot for Customer Assistance ([booking.com, Electronic Arts, ...](https://aws.amazon.com/de/ai/generative-ai/use-cases/chatbots-and-virtual-assistants/#:~:text=New%20generative%20AI%20features%20for,functional%20chatbot%20in%20just%20minutes)).\n",
    "\n",
    "\n",
    "Examples in Finance include the [Bundesbank](https://www.bundesbank.de/de/aufgaben/themen/bundesbank-startet-textbasierte-intelligente-assistenten--856178), testing this technology for Text analysis, [Morgan Stanley](https://openai.com/index/morgan-stanley/) for more efficient\n",
    "document search and Jane Street, included in the [list of Claude AI Customers](https://www.anthropic.com/customers) \n",
    "(without any additional information).\n",
    "\n",
    "Inspired by these very informative articles from the [Turing Institute](https://www.turing.ac.uk/sites/default/files/2024-06/the_impact_of_large_language_models_in_finance_-_towards_trustworthy_adoption_1.pdf), and [McKinsey](https://www.mckinsey.com/capabilities/risk-and-resilience/our-insights/how-generative-ai-can-help-banks-manage-risk-and-compliance), we propose three simple and concrete use case prototypes:\n",
    "\n",
    " - Search for **global information** from the web more efficiently;\n",
    " - Find and exctract **local informations** from a given document;\n",
    " - Generate simple source code to help **learning by examples**.\n",
    "\n",
    "We remark how when using online Generative AI, it is a good idea to **never provide sensitive informations** (unless you subscribed to\n",
    "services ensuring on that regard, more on that in the following lines). We recommend to always\n",
    "**generate output in a way that can be verified**, and to respect the\n",
    "[Europen AI regulation](https://www.europarl.europa.eu/topics/en/article/20230601STO93804/eu-ai-act-first-regulation-on-artificial-intelligence)\n",
    "on the matter.\n",
    "\n",
    "\n",
    "Concerning the very important aspect of user privacy, even if most of the providers do not exacly claim how (and if) user data are stored,\n",
    "the service [ClaudeAI](https://www.anthropic.com/news/claude-3-5-sonnet) explicitely claims that\n",
    "at least your data are **not used as training material**, meaning that if another user is using the same service,\n",
    "it should not be possible for him to retrieve information about your input.\n",
    "OpenAI seems [to be less explicit](https://help.openai.com/en/articles/5722486-how-your-data-is-used-to-improve-model-performance) on this point,\n",
    "while BloombergGPT does not provide any additional information on the website.\n",
    "The topic is also not covered from FinGTP or Colossal AI, but since their models are open source\n",
    "and in principle trainable on your local servers, this should be possible.\n",
    "We recommend always contacting the correspoinding customer service to get clarifications on such a theme.\n",
    "\n",
    "In our examples we used the OpenAI Python API due to the author's familiarity with the language,\n",
    "without the intention of making any form of advertisement. In order to run the examples, **you need to provide a OpenAI API Key** for the 4o-mini model, as explained [here](https://platform.openai.com/docs/quickstart) (an OpenAI account is required). Finally, please note that some weblinks offered as resources at the end of task executions might be dead, since the model does not operate in real-time."
   ]
  },
  {
   "cell_type": "markdown",
   "id": "5c42d6a6",
   "metadata": {},
   "source": [
    "#### Case 1: _Performing an Efficient Web Search_"
   ]
  },
  {
   "cell_type": "markdown",
   "id": "cd8bd42d",
   "metadata": {},
   "source": [
    "In this section we use the OpenAI library to building an interactive \\\"search\\\" button capable of summing up the **key points of a certain topic of choice**, including appropriate references from the web."
   ]
  },
  {
   "cell_type": "code",
   "execution_count": 1,
   "id": "71404f7a",
   "metadata": {},
   "outputs": [],
   "source": [
    "import os\n",
    "# Modules for the interactive widgets\n",
    "import ipywidgets as widgets\n",
    "from IPython.display import display\n",
    "from ipywidgets import interactive_output, interact\n",
    "from ipywidgets import HBox, VBox\n",
    "# Enable support for Word files: temporarily disabled\n",
    "# import docx2txt\n",
    "# Enable import from PDF files, for later\n",
    "from pypdf import PdfReader\n",
    "# OpenAI API modules\n",
    "import openai\n",
    "from openai import OpenAI"
   ]
  },
  {
   "cell_type": "markdown",
   "id": "a995b36d",
   "metadata": {},
   "source": [
    "<div class=\"alert alert-block alert-info\"> <b>Note:</b> Configure your OpenAI API Licence key. </div>"
   ]
  },
  {
   "cell_type": "code",
   "execution_count": 2,
   "id": "fa6508bd",
   "metadata": {},
   "outputs": [],
   "source": [
    "try:\n",
    "    the_key = os.environ[\"OPENAI_API_KEY\"]\n",
    "except KeyError:\n",
    "    print(\"It seems that you have no API key installed on your system\")\n",
    "    the_key = input(\"Please enter the API Key manually:\")"
   ]
  },
  {
   "cell_type": "code",
   "execution_count": 3,
   "id": "7c94ff17",
   "metadata": {},
   "outputs": [],
   "source": [
    "openai.api_key = the_key\n",
    "client = OpenAI(api_key=the_key)"
   ]
  },
  {
   "cell_type": "code",
   "execution_count": 4,
   "id": "05913563-8f6f-47ee-bb53-d968c348be5a",
   "metadata": {},
   "outputs": [],
   "source": [
    "def user_request(topic):\n",
    "    '''\n",
    "    Look for information about a specific thema,\n",
    "    sum up in few words and provide two external resources.\n",
    "    '''\n",
    "    msg = \"Explain me about\" + topic + \"in fewer than 100 words.\"\n",
    "    msg = msg + \" Add three reliable website links that you used as references.\"\n",
    "    completion = client.chat.completions.create(\n",
    "                    model=\"gpt-4o-mini\",\n",
    "                    messages=[{\"role\": \"user\", \"content\": msg}]\n",
    "                    )\n",
    "    return completion.choices[0].message.content"
   ]
  },
  {
   "cell_type": "code",
   "execution_count": 5,
   "id": "7b8f5125-8140-463b-8e7b-fb8eb1110880",
   "metadata": {},
   "outputs": [],
   "source": [
    "def wrap_f (topic, go):\n",
    "    '''\n",
    "    Wrapper for the function user_request\n",
    "    to be combined with Jupyter Widgets.\n",
    "    '''\n",
    "    if go and topic:\n",
    "        print(\"*** Click the button in any moment to STOP ***\")\n",
    "        print(f\"-> Searching about {topic}...\")\n",
    "        print(user_request(topic))\n",
    "        print(\"*** CLICK THE BUTTON TO RESET ***\")\n",
    "    else:\n",
    "        print(\"\")"
   ]
  },
  {
   "cell_type": "code",
   "execution_count": 6,
   "id": "f9ecc521-1d06-45ab-8006-8216358f00f0",
   "metadata": {},
   "outputs": [
    {
     "data": {
      "application/vnd.jupyter.widget-view+json": {
       "model_id": "09b93d9ba361470e8ab21264a4427c44",
       "version_major": 2,
       "version_minor": 0
      },
      "text/plain": [
       "HBox(children=(Text(value='', description='Topic:'), ToggleButton(value=False, button_style='success', descrip…"
      ]
     },
     "metadata": {},
     "output_type": "display_data"
    },
    {
     "data": {
      "application/vnd.jupyter.widget-view+json": {
       "model_id": "a182ded3ad37479ba9a5c8e6cfd28170",
       "version_major": 2,
       "version_minor": 0
      },
      "text/plain": [
       "Output()"
      ]
     },
     "metadata": {},
     "output_type": "display_data"
    }
   ],
   "source": [
    "# Jupyter interactive widgets: creation\n",
    "w_topic = widgets.Text(description='Topic:')\n",
    "w_go = widgets.ToggleButton(description='WEB SEARCH/STOP', button_style='success')\n",
    "out = interactive_output(wrap_f, {\"topic\" : w_topic, \"go\" : w_go})\n",
    "\n",
    "# Jupyter interactive widgets: User Iterface\n",
    "display(HBox([w_topic, w_go]))\n",
    "display(out)"
   ]
  },
  {
   "cell_type": "markdown",
   "id": "c53d3485-c839-4589-8062-2e61f7160067",
   "metadata": {},
   "source": [
    "#### Case 2: _Extracting Information From a Document_"
   ]
  },
  {
   "cell_type": "markdown",
   "id": "487e8df0-509a-4a8c-9fdd-363cb4f1f2ef",
   "metadata": {},
   "source": [
    "In this further example we built a button capable of extracting the key points from a given document.\n",
    "You also provide a question to be answered, then the model points out in the text the **sentence where\n",
    "the information is found**. Then the user can (and should) check the correctness of the claim: the experience suggests\n",
    "that the model can fail and return unexpected answers. Despite this limitation, such a tool might provide a productivity boost\n",
    "in common working environments."
   ]
  },
  {
   "cell_type": "code",
   "execution_count": 7,
   "id": "5c4d6a23-9737-4560-9f46-9a1f3d87e93e",
   "metadata": {},
   "outputs": [],
   "source": [
    "def sum_up(filename, question):\n",
    "    '''\n",
    "    Build a sum up of the given file (txt/docx/pdf).\n",
    "    Depending on your API licence it is advised to use only small files.\n",
    "    '''\n",
    "    extension = filename.split(\".\")[1]\n",
    "    complete_path = \"documents\" + os.sep + filename\n",
    "    if extension == \"docx\":\n",
    "        message = \"ERROR: Since the package docx2txt is causing incompatibilities,\"\n",
    "        message = message + \" reading Word files is temporarily not possible.\\n\"\n",
    "        message = message + \"Please use only .txt or .pdf\"\n",
    "        return message\n",
    "        #text = docx2txt.process(filename)\n",
    "    elif extension == \"txt\":\n",
    "        text = open(complete_path, \"r\").read()\n",
    "    elif extension == \"pdf\":\n",
    "        reader = PdfReader(complete_path)\n",
    "        # Read just the first page of the file\n",
    "        page = reader.pages[0]\n",
    "        text = page.extract_text()    \n",
    "    else:\n",
    "        return f\"Extension {extension} not supported.\"\n",
    " \n",
    "    print(f\"Reading file {filename} from folder 'extra'...\")\n",
    "    msg = \"After the description of your task, you will be given a text. \"\n",
    "    msg = \"You have to sum up the text with a list of no more than 5 key points. \"\n",
    "    msg = msg + \"Then, try to answer to the following question using only information available in the text. \"\n",
    "    msg = msg + \"The question is:\\n\" + question\n",
    "    msg = msg + \"\\nTo elaborate your answer, use only informations from the text. Do not use any external knowledge. \"\n",
    "    msg = msg + \"If no answer is found in the text, and you are sure about it, tell me. \"\n",
    "    msg = msg + \"In this case, do not answer to the question. \\n\"\n",
    "    msg = msg + \"Conversely, if you found an answer, tell me in which sentence in the text you found the answer. \"\n",
    "    msg = msg + \"Write this sentence. Motivate your answer. \"\n",
    "    msg = msg + \"The description of your task ends here. The text to analyze is the following:\\n\" + text\n",
    "    completion = client.chat.completions.create(\n",
    "                    model=\"gpt-4o-mini\",\n",
    "                    messages=[{\"role\": \"user\", \"content\": msg}],\n",
    "                    temperature = 0.01\n",
    "                    )\n",
    "    return completion.choices[0].message.content"
   ]
  },
  {
   "cell_type": "code",
   "execution_count": 8,
   "id": "00cf2a0b-211e-4ba2-8621-81470da435dc",
   "metadata": {},
   "outputs": [],
   "source": [
    "def wrap_su (filename, question, go):\n",
    "    '''\n",
    "    Wrapper for the function sum_up\n",
    "    to be combined with Jupyter Widgets.\n",
    "    '''\n",
    "    if go and filename:\n",
    "        print(\"*** Cick the button in any moment to STOP ***\")\n",
    "        print(sum_up(filename, question))\n",
    "        print(\"*** CLICK THE BUTTON AGAIN TO RESET ***\")\n",
    "    else:\n",
    "        print(\"\")"
   ]
  },
  {
   "cell_type": "code",
   "execution_count": 9,
   "id": "ef508d28-1167-4dad-a4f6-484f23a81a03",
   "metadata": {},
   "outputs": [],
   "source": [
    "# List of all the files contained in the extra folder\n",
    "available_files = os.listdir(\"documents\")"
   ]
  },
  {
   "cell_type": "code",
   "execution_count": 10,
   "id": "42814fde-4a62-4ff6-9121-1e9157d47634",
   "metadata": {},
   "outputs": [
    {
     "name": "stdout",
     "output_type": "stream",
     "text": [
      "['python_tutorial_6.txt', 'risk_regulation_sample.pdf', 'water.txt']\n"
     ]
    }
   ],
   "source": [
    "# Source: https://www.nbb.be/doc/cp/eng/2015/20150117_eu_2015_35.pdf\n",
    "print(available_files)"
   ]
  },
  {
   "cell_type": "code",
   "execution_count": 11,
   "id": "23c08531-60f3-49c6-ab70-ee52bb886c1b",
   "metadata": {},
   "outputs": [
    {
     "data": {
      "application/vnd.jupyter.widget-view+json": {
       "model_id": "9d4dd5e4b8744a859b64237e4da5422b",
       "version_major": 2,
       "version_minor": 0
      },
      "text/plain": [
       "VBox(children=(Dropdown(description='Document:', index=1, options=('python_tutorial_6.txt', 'risk_regulation_s…"
      ]
     },
     "metadata": {},
     "output_type": "display_data"
    },
    {
     "data": {
      "application/vnd.jupyter.widget-view+json": {
       "model_id": "cf616407f80741e48b0a5b7a0086316c",
       "version_major": 2,
       "version_minor": 0
      },
      "text/plain": [
       "Output()"
      ]
     },
     "metadata": {},
     "output_type": "display_data"
    }
   ],
   "source": [
    "# Jupyter interactive widgets: creation\n",
    "# Available local files are: water.docx, python_tutorial_6.txt, risk_regulation.pdf\n",
    "\n",
    "w_wordfile = widgets.Dropdown(options=available_files, value=\"risk_regulation_sample.pdf\", description='Document:')\n",
    "w_question = widgets.Text(description='Question:', placeholder=\"Do penguins drink?\", value=\"What is the capital requirement for spread risk?\")\n",
    "w_go2 = widgets.ToggleButton(description='ANALYZE TEXT', button_style='success')\n",
    "out2 = interactive_output(wrap_su, {\"filename\" : w_wordfile, \"question\" : w_question, \"go\" : w_go2})\n",
    "\n",
    "# Jupyter interactive widgets: User Iterface\n",
    "display(VBox([w_wordfile, w_question, w_go2]))\n",
    "display(out2)"
   ]
  },
  {
   "cell_type": "markdown",
   "id": "21558904-95c4-4c17-bcea-6d3bc49fefd3",
   "metadata": {},
   "source": [
    "#### Case 3: _Generating Coding Examples_"
   ]
  },
  {
   "cell_type": "markdown",
   "id": "151d839d-186f-4fec-9a27-056b45981114",
   "metadata": {},
   "source": [
    "In this section we propose the topic of automated code generation imaging the following scenario.\n",
    "The user needs a Python program to perform a certain simple task, but is unsure about the right syntax.\n",
    "Similarly, another compatible case is when the user is learning a certain the topic but would like to **first try with some examples**,\n",
    "before clarifying the theory from an appropriate source. "
   ]
  },
  {
   "cell_type": "code",
   "execution_count": 12,
   "id": "61f54c34-c627-4a9c-98e8-1ce713ae8bbc",
   "metadata": {},
   "outputs": [],
   "source": [
    "def generate_code(task):\n",
    "    '''\n",
    "    Generate Python Code\n",
    "    '''\n",
    "    msg = \"Write a Python script solving the task mentioned below. \"\n",
    "    msg = msg + \"The code must be well commented and formatted, so that I can learn and understand. \"\n",
    "    msg = msg + \"Give me three websites where I can learn the programming techniques that you used and more on the task itself. \"\n",
    "    msg = msg + \"The task is:\\n\" + task\n",
    "    completion = client.chat.completions.create(\n",
    "                    model=\"gpt-4o-mini\",\n",
    "                    messages=[{\"role\": \"user\", \"content\": msg}],\n",
    "                    temperature = 0.1\n",
    "                    )\n",
    "    return completion.choices[0].message.content\n",
    "#---"
   ]
  },
  {
   "cell_type": "code",
   "execution_count": 13,
   "id": "c8792356-1b38-47ca-8783-241b0be73377",
   "metadata": {},
   "outputs": [],
   "source": [
    "def wrap_generate_code (task, go):\n",
    "    '''\n",
    "    Wrapper for the function sum_up\n",
    "    to be combined with Jupyter Widgets.\n",
    "    '''\n",
    "    if go and task:\n",
    "        print(\"*** Click the button in any moment to STOP ***\")\n",
    "        print(generate_code(task))\n",
    "        print(\"*** Click the button to reset ***\")\n",
    "        print(\"*** Do not type if not RESETted! ***\")\n",
    "    else:\n",
    "        print(\"\")"
   ]
  },
  {
   "cell_type": "code",
   "execution_count": 14,
   "id": "c802f868-4472-4064-b903-288eb8d70548",
   "metadata": {},
   "outputs": [
    {
     "data": {
      "application/vnd.jupyter.widget-view+json": {
       "model_id": "b778bef06b0540d99a8da3d187517c54",
       "version_major": 2,
       "version_minor": 0
      },
      "text/plain": [
       "HBox(children=(Text(value='Example with Value At Risk.', description='Task:', placeholder='Example with Value …"
      ]
     },
     "metadata": {},
     "output_type": "display_data"
    },
    {
     "data": {
      "application/vnd.jupyter.widget-view+json": {
       "model_id": "33bccace57684177b07fea6de8940ab6",
       "version_major": 2,
       "version_minor": 0
      },
      "text/plain": [
       "Output()"
      ]
     },
     "metadata": {},
     "output_type": "display_data"
    }
   ],
   "source": [
    "# Jupyter interactive widgets: creation\n",
    "w_task = widgets.Text(description='Task:', placeholder=\"Example with Value At Risk.\", value=\"Example with Value At Risk.\")\n",
    "w_go3 = widgets.ToggleButton(description='GENERATE CODE', button_style='success')\n",
    "out3 = interactive_output(wrap_generate_code, {\"task\" : w_task, \"go\" : w_go3})\n",
    "\n",
    "# Jupyter interactive widgets: User Iterface\n",
    "display(HBox([w_task, w_go3]))\n",
    "display(out3)"
   ]
  },
  {
   "cell_type": "code",
   "execution_count": null,
   "id": "ea0dac2f-7bd4-4ac0-96a0-b1822796ce9d",
   "metadata": {},
   "outputs": [],
   "source": []
  }
 ],
 "metadata": {
  "kernelspec": {
   "display_name": "Python 3 (ipykernel)",
   "language": "python",
   "name": "python3"
  },
  "language_info": {
   "codemirror_mode": {
    "name": "ipython",
    "version": 3
   },
   "file_extension": ".py",
   "mimetype": "text/x-python",
   "name": "python",
   "nbconvert_exporter": "python",
   "pygments_lexer": "ipython3",
   "version": "3.12.4"
  }
 },
 "nbformat": 4,
 "nbformat_minor": 5
}
